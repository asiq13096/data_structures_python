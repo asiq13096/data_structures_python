{
 "cells": [
  {
   "cell_type": "markdown",
   "id": "2b4348f4-7a3a-4a75-9b71-9959da580c54",
   "metadata": {},
   "source": [
    "<h3 style=\"text-align:center; color:#4FFFB9;\">Array Traversal</h3>\n",
    "<p style=\"text-align:center; color:#538FED;\">Given a array. Print first element, skip the second and print the third element. Continue this until the end. We can use two type of approach for this problem.</p>\n",
    "<div style=\"text-align: center;\">\n",
    "  <ol style=\"display: inline-block; text-align: left; color:#53DEED;\">\n",
    "    <li>Iterative Approach</li>\n",
    "    <li>Recursive Approach</li>\n",
    "  </ol>\n",
    "</div>\n",
    "<p style=\"text-align:center; color:#D353ED;\">Both of these approach need O(n) time complexity.</p>"
   ]
  },
  {
   "cell_type": "code",
   "execution_count": 1,
   "id": "1ce03782-5b46-4582-8cbd-8b06ced8c94d",
   "metadata": {},
   "outputs": [
    {
     "name": "stdout",
     "output_type": "stream",
     "text": [
      "10 , 30 , 50 , 70 , 90\n"
     ]
    }
   ],
   "source": [
    "#Iteration approach\n",
    "#Defining an array\n",
    "arr = [10 , 20 , 30 , 40 , 50 , 60 , 70 , 80 , 90 , 100]\n",
    "\n",
    "#Defining a function\n",
    "def final(arr):\n",
    "    #creating an empty list\n",
    "    result = []\n",
    "    #loop through the array until the end\n",
    "    for i in range(0, len(arr), 2):\n",
    "        result.append(arr[i]) #Append the element\n",
    "    return result\n",
    "if __name__==\"__main__\": #This line ensures that the code runs only when the script is executed directly\n",
    "    result = final(arr) #Calling the funtion to get the result\n",
    "    print(\" , \".join(map(str, result))) #Print the result"
   ]
  },
  {
   "cell_type": "code",
   "execution_count": 2,
   "id": "16eca82c-3ba0-40b9-be83-ca5cdc4e617f",
   "metadata": {},
   "outputs": [
    {
     "name": "stdout",
     "output_type": "stream",
     "text": [
      "10 , 30 , 50 , 70 , 90\n"
     ]
    }
   ],
   "source": [
    "#Recursive approach\n",
    "#Defining an array\n",
    "arr = [10 , 20 , 30 , 40 , 50 , 60 , 70 , 80 , 90 , 100]\n",
    "def final(arr , index , result):\n",
    "    if index < len(arr): #Base case: if index goes beyond the array length, stop recursion\n",
    "        result.append(arr[index]) #Append the current element\n",
    "        final(arr, index + 2, result) #Recursively call final with index increased by 2\n",
    "#Helper function to initialize result lista and start recursion\n",
    "def getalternate(arr):\n",
    "    result = [] #Creating a empty list to store alternate elements\n",
    "    final(arr, 0, result) #Start recursion from index 0\n",
    "    return result #Return Final list\n",
    "if __name__==\"__main__\":\n",
    "    result = getalternate(arr)\n",
    "    print(\" , \".join(map(str,result)))"
   ]
  },
  {
   "cell_type": "markdown",
   "id": "507f9e9b-c666-4fe9-aa49-4482518192f6",
   "metadata": {},
   "source": [
    "<h3 style=\"text-align:center; color:#4FFFB9;\">Array Traversal</h3>\n",
    "<p style=\"text-align:center; color:#538FED;\">Given a array. Find specific value inside the array. Value that are qualified when it will be equal or greater than all the elements to its right side. Also rightmost element will be a candidate by default. There are Two type of approaches exist for this problem.</p>\n",
    "<div style=\"text-align: center;\">\n",
    "  <ol style=\"display: inline-block; text-align: left; color:#53DEED;\">\n",
    "    <li>Nested Loop Approach</li>\n",
    "    <li>Suffix Maximum Approach</li>\n",
    "  </ol>\n",
    "</div>\n",
    "<p style=\"text-align:center; color:#D353ED;\">Suffix Maximum Approach need O(n) time complexity where Nested loop approach required O(n^2) time complexity.</p>"
   ]
  },
  {
   "cell_type": "code",
   "execution_count": 5,
   "id": "69bf830f-16ee-4256-aeae-c67955252e7a",
   "metadata": {},
   "outputs": [
    {
     "name": "stdout",
     "output_type": "stream",
     "text": [
      "17 , 5 , 2\n"
     ]
    }
   ],
   "source": [
    "#Nested loop approach\n",
    "#Defining an array\n",
    "arr = [14 , 17 , 4 , 3 , 5 , 2]\n",
    "def spf(arr): #Funtion to find the elements which have no greater element to their right\n",
    "    res = [] #An empty array for storing the result\n",
    "    n = len(arr) #Getting the lenth of the given array\n",
    "    for i in range(n): #Loop through each element of the array by index\n",
    "        for j in range(i+1, n): #Loop through all elements to right of arra[i]\n",
    "            if arr[i] < arr[j]: #FInding condition which one is greater, it will help to break the loop\n",
    "                break\n",
    "        else:\n",
    "            res.append(arr[i]) #Add arr[i] to the result\n",
    "        #This else runs only if the inner loop completes without 'break'\n",
    "        #There is no greater elements to the right\n",
    "    return res #Return the final list of elements\n",
    "#Main block to execute the function\n",
    "if __name__==\"__main__\":\n",
    "    res = spf(arr)\n",
    "    print(\" , \".join(map(str,res)))"
   ]
  },
  {
   "cell_type": "code",
   "execution_count": 6,
   "id": "b41b0aa8-9ee1-4292-841d-4273ee04e2d1",
   "metadata": {},
   "outputs": [
    {
     "name": "stdout",
     "output_type": "stream",
     "text": [
      "17 , 5 , 2\n"
     ]
    }
   ],
   "source": [
    "#Suffix Maximum Approach\n",
    "arr = [14 , 17 , 4 , 3 , 5 , 2]\n",
    "def spf(arr):\n",
    "    result = []\n",
    "    n = len(arr)\n",
    "    rightmost = arr[-1] #Initialize rightmost element as the last value of the array\n",
    "    result.append(rightmost) #Adding the last element as it is always a required value\n",
    "    for i in range(n-2, -1, -1): #Travers the array from the second last elemtn to the first\n",
    "        if arr[i] >= rightmost: #If current element is greater than or equal to the rightmost value\n",
    "            rightmost = arr[i] #Update rightmost to current element\n",
    "            result.append(rightmost) #Append current element to the result list\n",
    "    result.reverse() #Reverse the result list to maintain the original order, In this approach we started from right side\n",
    "    return result\n",
    "#Main program execution\n",
    "if __name__==\"__main__\":\n",
    "    result = spf(arr)\n",
    "    print(\" , \".join(map(str,result)))"
   ]
  }
 ],
 "metadata": {
  "kernelspec": {
   "display_name": "Python 3 (ipykernel)",
   "language": "python",
   "name": "python3"
  },
  "language_info": {
   "codemirror_mode": {
    "name": "ipython",
    "version": 3
   },
   "file_extension": ".py",
   "mimetype": "text/x-python",
   "name": "python",
   "nbconvert_exporter": "python",
   "pygments_lexer": "ipython3",
   "version": "3.13.7"
  }
 },
 "nbformat": 4,
 "nbformat_minor": 5
}
