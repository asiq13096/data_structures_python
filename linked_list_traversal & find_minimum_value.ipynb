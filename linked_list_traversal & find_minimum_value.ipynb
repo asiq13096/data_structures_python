{
 "cells": [
  {
   "cell_type": "markdown",
   "id": "21018d69-ce71-4403-b00f-d62a57f5d2ec",
   "metadata": {},
   "source": [
    "<h3 style=\"color:#F227F5;text-align:center;\">Linked list traversal</h3>"
   ]
  },
  {
   "cell_type": "code",
   "execution_count": 5,
   "id": "1acf4fca-6c7a-4d56-9a31-4464c577e81b",
   "metadata": {},
   "outputs": [
    {
     "name": "stdout",
     "output_type": "stream",
     "text": [
      "3 --> 6 --> 12 --> 1 --> 19 --> Null\n"
     ]
    }
   ],
   "source": [
    "class Node: #Define a class for a node in the linked list\n",
    "    def __init__(self, data): #Constructor to initialize a node\n",
    "        self.data = data #Store the value/data of this node\n",
    "        self.next = None #Pointer to the next node, initially none\n",
    "\n",
    "def Traverse(head): #Function to traverse and print the linked list\n",
    "    currentNode = head #Start traversal from the initian/head node\n",
    "    while currentNode: #Loop until it reach the final node\n",
    "        print(currentNode.data, end=\" --> \") #Print current node's data\n",
    "        currentNode = currentNode.next #Move to next node\n",
    "    print(\"Null\") #Indicate the end of the linked list\n",
    "\n",
    "#Create nodes with specific values\n",
    "node1 = Node(3)\n",
    "node2 = Node(6)\n",
    "node3 = Node(12)\n",
    "node4 = Node(1)\n",
    "node5 = Node(19)\n",
    "\n",
    "#link every node to the next node\n",
    "node1.next = node2 #Node1 points to Node2\n",
    "node2.next = node3 #Node2 points to Node3\n",
    "node3.next = node4 #Node3 points to Node4\n",
    "node4.next = node5 #Node4 points to Node5\n",
    "\n",
    "#Traverse and print the full linked list\n",
    "Traverse(node1) #Output"
   ]
  },
  {
   "cell_type": "markdown",
   "id": "2947827c-d2e4-4fad-816a-c476f72d6a92",
   "metadata": {},
   "source": [
    "<h3 style=\"color:#27E0F5;text-align:center;\">Find the lowest value in a linked list</h3>"
   ]
  },
  {
   "cell_type": "code",
   "execution_count": 6,
   "id": "21070ecd-cd85-4245-a678-76617ea79492",
   "metadata": {},
   "outputs": [
    {
     "name": "stdout",
     "output_type": "stream",
     "text": [
      "The lowest value inside the linked list is:  1\n"
     ]
    }
   ],
   "source": [
    "#Define a node class for linked list\n",
    "class Node:\n",
    "    def __init__(self, data):\n",
    "        self.data = data #Store the value of the node\n",
    "        self.next = None #Pointer to the next node, initially None\n",
    "\n",
    "#Function to find the lowest value in the linked list\n",
    "def find_lowest_number(head):\n",
    "    minValue = head.data #Assuming the first node has lowest value\n",
    "    currentNode = head.next #Start checking from the second node\n",
    "    while currentNode: #Loop until we reach the end of the linked list\n",
    "        if currentNode.data < minValue:\n",
    "            minValue = currentNode.data #Update minValue\n",
    "        currentNode = currentNode.next #Move to the next node\n",
    "    return minValue\n",
    "\n",
    "#Creating nodes with value\n",
    "node1 = Node(3)\n",
    "node2 = Node(7)\n",
    "node3 = Node(13)\n",
    "node4 = Node(18)\n",
    "node5 = Node(1)\n",
    "\n",
    "#Linking nodes\n",
    "node1.next = node2 #3--->7\n",
    "node2.next = node3 #7--->13\n",
    "node3.next = node4 #13--->18\n",
    "node4.next = node5 #18--->1\n",
    "\n",
    "#Call the function and print the result\n",
    "print(\"The lowest value inside the linked list is: \", find_lowest_number(node1))"
   ]
  },
  {
   "cell_type": "code",
   "execution_count": null,
   "id": "abc9a281-1c56-46ee-8a00-823a24c6518c",
   "metadata": {},
   "outputs": [],
   "source": []
  }
 ],
 "metadata": {
  "kernelspec": {
   "display_name": "Python (Env1)",
   "language": "python",
   "name": "env1"
  },
  "language_info": {
   "codemirror_mode": {
    "name": "ipython",
    "version": 3
   },
   "file_extension": ".py",
   "mimetype": "text/x-python",
   "name": "python",
   "nbconvert_exporter": "python",
   "pygments_lexer": "ipython3",
   "version": "3.13.7"
  }
 },
 "nbformat": 4,
 "nbformat_minor": 5
}
